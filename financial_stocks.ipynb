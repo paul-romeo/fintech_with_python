{
 "metadata": {
  "language_info": {
   "codemirror_mode": {
    "name": "ipython",
    "version": 3
   },
   "file_extension": ".py",
   "mimetype": "text/x-python",
   "name": "python",
   "nbconvert_exporter": "python",
   "pygments_lexer": "ipython3",
   "version": 3
  },
  "orig_nbformat": 2
 },
 "nbformat": 4,
 "nbformat_minor": 2,
 "cells": [
  {
   "cell_type": "code",
   "execution_count": null,
   "metadata": {},
   "outputs": [],
   "source": [
    "# Import libraries \n",
    "import pandas as pd \n",
    "import yfinance as yf \n",
    "import matplotlib.pyplot as plt \n",
    "\n",
    "# Get stock data for AAPL, XPEV, and TSLA \n",
    "stock_symbols = [\"AAPL\", \"XPEV\", \"TSLA\"]\n",
    "stocks = yf.download(stock_symbols, start=\"2010-01-01\", end=\"2020-11-01\")\n",
    "\n",
    "# Extract only the stock closed prices \n",
    "data = stocks[:,\"Close\"].copy \n",
    "\n",
    "# Plotting stocks \n",
    "data.plot(figsize=(17,8), fontsize=18)\n",
    "plt.style.use(\"seaborn\")\n",
    "plt.show()"
   ]
  }
 ]
}